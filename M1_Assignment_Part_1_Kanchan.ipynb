{
  "nbformat": 4,
  "nbformat_minor": 0,
  "metadata": {
    "kernelspec": {
      "display_name": "Python 3",
      "language": "python",
      "name": "python3"
    },
    "language_info": {
      "codemirror_mode": {
        "name": "ipython",
        "version": 3
      },
      "file_extension": ".py",
      "mimetype": "text/x-python",
      "name": "python",
      "nbconvert_exporter": "python",
      "pygments_lexer": "ipython3",
      "version": "3.7.6"
    },
    "colab": {
      "provenance": [],
      "include_colab_link": true
    }
  },
  "cells": [
    {
      "cell_type": "markdown",
      "metadata": {
        "id": "view-in-github",
        "colab_type": "text"
      },
      "source": [
        "<a href=\"https://colab.research.google.com/github/kanchanmaurya95/AIM-5001/blob/main/M1_Assignment_Part_1_Kanchan.ipynb\" target=\"_parent\"><img src=\"https://colab.research.google.com/assets/colab-badge.svg\" alt=\"Open In Colab\"/></a>"
      ]
    },
    {
      "cell_type": "markdown",
      "metadata": {
        "id": "URHO-Uji2koG"
      },
      "source": [
        "# M1 Assignment: Text Processing and Edit Distance\n",
        "\n",
        "In this section we will be exploring how to preprocess tweets . We will provide a function for preprocessing tweets during this week's assignment, but it is still good to know what is going on under the hood. By the end of this assignment, you will see how to use the [NLTK](http://www.nltk.org) package to perform a preprocessing pipeline for Twitter datasets."
      ]
    },
    {
      "cell_type": "markdown",
      "metadata": {
        "id": "cVg-26AV2koP"
      },
      "source": [
        "## Setup\n",
        "Eventually, you will conduct a sentiment analysis on Tweets. To help with that, we will be using the Natural Language Toolkit (NLTK) package, an open-source Python library for natural language processing. In this library you will use the NLTK to assist with processing the tweet to clean it for interpretation.\n",
        "\n",
        "In Part 1.1, you will extract a set of Elon Musk tweets. Next in Part 1.2, you will process the tweets using the various processing tasks outlined in the section and Chapter 2 of Jurafsky and Martin. Finally, in Part 1.3, you will create a simple version of a Levensthein distance formula to run the edit distance between two matrices.\n",
        "\n",
        "As part of completing the assignment, you will see that there are areas in the note book for you to complete your own coding input.\n",
        "\n",
        "It will be look like following:\n",
        "```\n",
        "### START CODE HERE (REPLACE INSTANCES OF 'None' with your code) ###\n",
        "'Some coding activity for you to complete'\n",
        "### END CODE HERE ###\n",
        "\n",
        "```"
      ]
    },
    {
      "cell_type": "markdown",
      "source": [
        "Additionally, you will be using custom media and libraries created and stored for your in your Colab environment.\n"
      ],
      "metadata": {
        "id": "MYLzCpw62fYi"
      }
    },
    {
      "cell_type": "markdown",
      "metadata": {
        "id": "td35EC362koR"
      },
      "source": [
        "## Part 1.1: Using tweetsts\n",
        "\n",
        "---\n",
        "\n"
      ]
    },
    {
      "cell_type": "markdown",
      "metadata": {
        "id": "hzNDoS1P2koY"
      },
      "source": [
        "### Extracting tweets\n",
        "In this next section, we're going to import Elon Musk's tweets and prepare them to preprocess. Use the following code to connect to the M1 Assignment Repo and download it to your Google Colab Account\n",
        "\n"
      ]
    },
    {
      "cell_type": "code",
      "source": [
        "#install this if you do not have this already installed\n",
        "!pip install gitpython\n",
        "\n",
        "import git\n",
        "import sys\n",
        "\n",
        "\n",
        "# Clone the GitHub repository\n",
        "repo_url = 'https://github.com/Natural-Language-Processing-YU/Module-1-Assignment.git'\n",
        "repo_dir = '/content/m1_repo'  # Specify the directory to clone the repository\n",
        "git.Repo.clone_from(repo_url, repo_dir)\n",
        "# Add the cloned repository directory to the import path\n",
        "\n"
      ],
      "metadata": {
        "colab": {
          "base_uri": "https://localhost:8080/"
        },
        "id": "6WNrUiAYxglN",
        "outputId": "b3451221-2562-416f-9287-f54a84382281"
      },
      "execution_count": null,
      "outputs": [
        {
          "output_type": "stream",
          "name": "stdout",
          "text": [
            "Looking in indexes: https://pypi.org/simple, https://us-python.pkg.dev/colab-wheels/public/simple/\n",
            "Requirement already satisfied: gitpython in /usr/local/lib/python3.10/dist-packages (3.1.31)\n",
            "Requirement already satisfied: gitdb<5,>=4.0.1 in /usr/local/lib/python3.10/dist-packages (from gitpython) (4.0.10)\n",
            "Requirement already satisfied: smmap<6,>=3.0.1 in /usr/local/lib/python3.10/dist-packages (from gitdb<5,>=4.0.1->gitpython) (5.0.0)\n"
          ]
        },
        {
          "output_type": "execute_result",
          "data": {
            "text/plain": [
              "<git.repo.base.Repo '/content/m1_repo/.git'>"
            ]
          },
          "metadata": {},
          "execution_count": 8
        }
      ]
    },
    {
      "cell_type": "markdown",
      "source": [
        "Use the pandas library to create a dataframe with the csv file full owf twees."
      ],
      "metadata": {
        "id": "Md_LSWJUud-U"
      }
    },
    {
      "cell_type": "code",
      "metadata": {
        "id": "W308paKm2kob",
        "outputId": "10d618b6-e148-495b-c6b7-88108a240f5a",
        "colab": {
          "base_uri": "https://localhost:8080/"
        }
      },
      "source": [
        "#extract the tweets\n",
        "import pandas as pd\n",
        "\n",
        "tweets = pd.read_csv('/content/m1_repo/data/elonmusk_tweets.csv') #import file\n",
        "print(tweets.dtypes) #print data types\n",
        "print(tweets.text) #show tweets from file\n",
        "df = pd.DataFrame(tweets)\n",
        "\n"
      ],
      "execution_count": null,
      "outputs": [
        {
          "output_type": "stream",
          "name": "stdout",
          "text": [
            "id             int64\n",
            "created_at    object\n",
            "text          object\n",
            "dtype: object\n",
            "0       b'And so the robots spared humanity ... https:...\n",
            "1       b\"@ForIn2020 @waltmossberg @mims @defcon_5 Exa...\n",
            "2           b'@waltmossberg @mims @defcon_5 Et tu, Walt?'\n",
            "3                     b'Stormy weather in Shortville ...'\n",
            "4       b\"@DaveLeeBBC @verge Coal is dying due to nat ...\n",
            "                              ...                        \n",
            "2814                 b'That was a total non sequitur btw'\n",
            "2815    b'Great Voltaire quote, arguably better than T...\n",
            "2816    b'I made the volume on the Model S http://t.co...\n",
            "2817    b\"Went to Iceland on Sat to ride bumper cars o...\n",
            "2818    b'Please ignore prior tweets, as that was some...\n",
            "Name: text, Length: 2819, dtype: object\n"
          ]
        }
      ]
    },
    {
      "cell_type": "markdown",
      "metadata": {
        "id": "S2kk1YB-2koa"
      },
      "source": [
        "## Part 1.2: Preprocessing the text from tweets\n",
        "Text processing is one of the critical steps in an NLP project and in data scenience and analytics. It includes cleaning and formatting the data before feeding an algorithm. For NLP, the preprocessing steps are comprised of the following tasks:\n",
        "\n",
        "1. Tokenizing the string\n",
        "2. Lowercasing\n",
        "3. Removing stop words and punctuation\n",
        "4. Stemming\n",
        "\n",
        "We will take this approach with a selected tweet that we returned from above see how this is transformed by each preprocessing step.\n",
        "\n",
        "Let's take one of the tweets and apply preprocessing steps"
      ]
    },
    {
      "cell_type": "markdown",
      "source": [
        "Let's take a look at one tweet from our dataframe:"
      ],
      "metadata": {
        "id": "fry6Eqa9ryXa"
      }
    },
    {
      "cell_type": "code",
      "source": [
        "print('\\033[92m' + df['text'][2816])"
      ],
      "metadata": {
        "id": "vl2W0slVr2RS",
        "colab": {
          "base_uri": "https://localhost:8080/"
        },
        "outputId": "8125d41c-2c66-41ed-c91d-ea20d0154283"
      },
      "execution_count": null,
      "outputs": [
        {
          "output_type": "stream",
          "name": "stdout",
          "text": [
            "\u001b[92mb'I made the volume on the Model S http://t.co/wMCnT53M go to 11.  Now I just need to work in a miniature Stonehenge...'\n"
          ]
        }
      ]
    },
    {
      "cell_type": "markdown",
      "metadata": {
        "id": "E2Ii7mmr2kod"
      },
      "source": [
        "### Remove hyperlinks, hashtags, and beginngin of strings\n",
        "Using this tweet, let's clean it up to remove unncessary information. First, we will use regex to remove hyperlinks. You will create the regex substring to remove hyperlinks, hashtabs and the start of a tweet line."
      ]
    },
    {
      "cell_type": "code",
      "metadata": {
        "id": "sQljVSFM2kod",
        "colab": {
          "base_uri": "https://localhost:8080/"
        },
        "outputId": "596887d4-dec3-485a-b554-1197743ca6c3"
      },
      "source": [
        "### START CODE HERE (REPLACE INSTANCES OF 'None' with your code) ###\n",
        "import re\n",
        "#create regex for hyperlinks\n",
        "regex_remove_hyperlinks =  r\"http[s]?://(?:[a-zA-Z]|[0-9]|[$-_@.&+]|[!*\\\\(\\\\),]|(?:%[0-9a-fA-F][0-9a-fA-F]))+\"\n",
        "df['text'][2816] = re.sub(regex_remove_hyperlinks, '', df['text'][2816])\n",
        "\n",
        "# remove hashtags\n",
        "# only removing the hash # sign from the word\n",
        "regex_hash = r\"#(\\w+)\"\n",
        "df['text'][2816] = re.sub(regex_hash, '', df['text'][2816])\n",
        "\n",
        "\n",
        "# remove 'b from each string\n",
        "regex_string_beginning = r\"^b['\\\"]\"\n",
        "df['text'][2816] = re.sub(regex_string_beginning, '', df['text'][2816])\n",
        "\n",
        "### END CODE HERE ###\n",
        "\n",
        "\n",
        "# Print the modified tweet\n",
        "print('\\033[92m' + df['text'][2816])\n",
        "\n"
      ],
      "execution_count": null,
      "outputs": [
        {
          "output_type": "stream",
          "name": "stdout",
          "text": [
            "\u001b[92mI made the volume on the Model S  go to 11.  Now I just need to work in a miniature Stonehenge...'\n"
          ]
        },
        {
          "output_type": "stream",
          "name": "stderr",
          "text": [
            "<ipython-input-12-a7c7446370ac>:5: SettingWithCopyWarning: \n",
            "A value is trying to be set on a copy of a slice from a DataFrame\n",
            "\n",
            "See the caveats in the documentation: https://pandas.pydata.org/pandas-docs/stable/user_guide/indexing.html#returning-a-view-versus-a-copy\n",
            "  df['text'][2816] = re.sub(regex_remove_hyperlinks, '', df['text'][2816])\n",
            "<ipython-input-12-a7c7446370ac>:10: SettingWithCopyWarning: \n",
            "A value is trying to be set on a copy of a slice from a DataFrame\n",
            "\n",
            "See the caveats in the documentation: https://pandas.pydata.org/pandas-docs/stable/user_guide/indexing.html#returning-a-view-versus-a-copy\n",
            "  df['text'][2816] = re.sub(regex_hash, '', df['text'][2816])\n",
            "<ipython-input-12-a7c7446370ac>:15: SettingWithCopyWarning: \n",
            "A value is trying to be set on a copy of a slice from a DataFrame\n",
            "\n",
            "See the caveats in the documentation: https://pandas.pydata.org/pandas-docs/stable/user_guide/indexing.html#returning-a-view-versus-a-copy\n",
            "  df['text'][2816] = re.sub(regex_string_beginning, '', df['text'][2816])\n"
          ]
        }
      ]
    },
    {
      "cell_type": "markdown",
      "source": [
        "#Using NLTK Libraries\n",
        "\n",
        "Now let's use the NLTK libraries to remove stopwords, tokenize, and stem the words.\n",
        "\n",
        "The Porter stemming algorithm, also known as the Porter stemmer, is a widely used algorithm for stemming words in natural language processing (NLP). It is named after its creator, Martin Porter. The goal of stemming is to reduce words to their base or root form, which helps to normalize variations of a word and reduce the vocabulary size."
      ],
      "metadata": {
        "id": "8X5-erZasQzI"
      }
    },
    {
      "cell_type": "code",
      "metadata": {
        "id": "8ZoSOGaW2koc"
      },
      "source": [
        "import nltk                                # Python library for NLP\n",
        "import re                                  # library for regular expression operations\n",
        "import string                              # for string operations\n",
        "\n",
        "from nltk.corpus import stopwords          # module for stop words that come with NLTK\n",
        "from nltk.stem import PorterStemmer        # module for stemming\n",
        "from nltk.tokenize import TweetTokenizer   # module for tokenizing strings"
      ],
      "execution_count": null,
      "outputs": []
    },
    {
      "cell_type": "code",
      "metadata": {
        "id": "xgaZcBmu2koc",
        "colab": {
          "base_uri": "https://localhost:8080/"
        },
        "outputId": "8264a102-e035-4526-b8f6-b2c5c56d8af3"
      },
      "source": [
        "# download the stopwords from NLTK\n",
        "nltk.download('stopwords')"
      ],
      "execution_count": null,
      "outputs": [
        {
          "output_type": "stream",
          "name": "stderr",
          "text": [
            "[nltk_data] Downloading package stopwords to /root/nltk_data...\n",
            "[nltk_data]   Package stopwords is already up-to-date!\n"
          ]
        },
        {
          "output_type": "execute_result",
          "data": {
            "text/plain": [
              "True"
            ]
          },
          "metadata": {},
          "execution_count": 14
        }
      ]
    },
    {
      "cell_type": "markdown",
      "metadata": {
        "id": "tMBLZmjp2koe"
      },
      "source": [
        "### Tokenize the string\n",
        "\n",
        "To tokenize means to split the strings into individual words without blanks or tabs. In this same step, we will also convert each word in the string to lower case. The [tokenize](https://www.nltk.org/api/nltk.tokenize.html#module-nltk.tokenize.casual) module from NLTK allows us to do these easily:"
      ]
    },
    {
      "cell_type": "code",
      "metadata": {
        "id": "QD2ub7Dl2koe",
        "colab": {
          "base_uri": "https://localhost:8080/"
        },
        "outputId": "91bc6279-c851-4e8e-9664-d52b2dc9f036"
      },
      "source": [
        "# instantiate tokenizer class\n",
        "tokenizer = TweetTokenizer(preserve_case=False, strip_handles=True,\n",
        "                               reduce_len=True)\n",
        "\n",
        "# tokenize tweets\n",
        "tokenized_tweet = tokenizer.tokenize(str(df['text'][2816]))\n",
        "\n",
        "\n",
        "print(tokenized_tweet)"
      ],
      "execution_count": null,
      "outputs": [
        {
          "output_type": "stream",
          "name": "stdout",
          "text": [
            "['i', 'made', 'the', 'volume', 'on', 'the', 'model', 's', 'go', 'to', '11', '.', 'now', 'i', 'just', 'need', 'to', 'work', 'in', 'a', 'miniature', 'stonehenge', '...', \"'\"]\n"
          ]
        }
      ]
    },
    {
      "cell_type": "markdown",
      "metadata": {
        "id": "rv8jxMlK2kof"
      },
      "source": [
        "### Remove stop words and punctuations\n",
        "\n",
        "The next step is to remove stop words and miscelleneous punctuations. Stop words are words that do not have semantic meaning to the tweet. There is a library of stopwords built into NLTK. The list provided by NLTK when you run the cells below."
      ]
    },
    {
      "cell_type": "code",
      "metadata": {
        "id": "weMOqHRp2kof",
        "colab": {
          "base_uri": "https://localhost:8080/"
        },
        "outputId": "2a17d644-f704-4c80-ad7f-d12134415cde"
      },
      "source": [
        "#Import the english stop words list from NLTK\n",
        "stopwords_english = stopwords.words('english')\n",
        "\n",
        "print('Stop words\\n')\n",
        "print(stopwords_english)\n",
        "\n",
        "print('\\nPunctuation\\n')\n",
        "print(string.punctuation)"
      ],
      "execution_count": null,
      "outputs": [
        {
          "output_type": "stream",
          "name": "stdout",
          "text": [
            "Stop words\n",
            "\n",
            "['i', 'me', 'my', 'myself', 'we', 'our', 'ours', 'ourselves', 'you', \"you're\", \"you've\", \"you'll\", \"you'd\", 'your', 'yours', 'yourself', 'yourselves', 'he', 'him', 'his', 'himself', 'she', \"she's\", 'her', 'hers', 'herself', 'it', \"it's\", 'its', 'itself', 'they', 'them', 'their', 'theirs', 'themselves', 'what', 'which', 'who', 'whom', 'this', 'that', \"that'll\", 'these', 'those', 'am', 'is', 'are', 'was', 'were', 'be', 'been', 'being', 'have', 'has', 'had', 'having', 'do', 'does', 'did', 'doing', 'a', 'an', 'the', 'and', 'but', 'if', 'or', 'because', 'as', 'until', 'while', 'of', 'at', 'by', 'for', 'with', 'about', 'against', 'between', 'into', 'through', 'during', 'before', 'after', 'above', 'below', 'to', 'from', 'up', 'down', 'in', 'out', 'on', 'off', 'over', 'under', 'again', 'further', 'then', 'once', 'here', 'there', 'when', 'where', 'why', 'how', 'all', 'any', 'both', 'each', 'few', 'more', 'most', 'other', 'some', 'such', 'no', 'nor', 'not', 'only', 'own', 'same', 'so', 'than', 'too', 'very', 's', 't', 'can', 'will', 'just', 'don', \"don't\", 'should', \"should've\", 'now', 'd', 'll', 'm', 'o', 're', 've', 'y', 'ain', 'aren', \"aren't\", 'couldn', \"couldn't\", 'didn', \"didn't\", 'doesn', \"doesn't\", 'hadn', \"hadn't\", 'hasn', \"hasn't\", 'haven', \"haven't\", 'isn', \"isn't\", 'ma', 'mightn', \"mightn't\", 'mustn', \"mustn't\", 'needn', \"needn't\", 'shan', \"shan't\", 'shouldn', \"shouldn't\", 'wasn', \"wasn't\", 'weren', \"weren't\", 'won', \"won't\", 'wouldn', \"wouldn't\"]\n",
            "\n",
            "Punctuation\n",
            "\n",
            "!\"#$%&'()*+,-./:;<=>?@[\\]^_`{|}~\n"
          ]
        }
      ]
    },
    {
      "cell_type": "markdown",
      "metadata": {
        "id": "23rvPhYz2kof"
      },
      "source": [
        "We can see that the stop words list above contains some words that could be important in some contexts.\n",
        "These could be words like _i, not, between, because, won, against_. In some cases, you may want to update this dictionary of stop words to suit your needs.\n",
        "\n",
        "Certain groupings like ':)' and '...'  should be retained when dealing with tweets because they are used to express emotions, but in some cases they should be removed.\n"
      ]
    },
    {
      "cell_type": "code",
      "metadata": {
        "id": "5Jnynu5K2kog",
        "colab": {
          "base_uri": "https://localhost:8080/"
        },
        "outputId": "b5a04870-c6aa-4ed0-fe69-d3d6247a422e"
      },
      "source": [
        "df2=df\n",
        "tweets_clean = []\n",
        "\n",
        "for word in tokenized_tweet: # Go through every word in your tokens list\n",
        "    if (word not in stopwords_english and  # remove stopwords\n",
        "        word not in string.punctuation):  # remove punctuation\n",
        "        tweets_clean.append(word)\n",
        "\n",
        "print('removed stop words and punctuation:')\n",
        "print(tweets_clean)"
      ],
      "execution_count": null,
      "outputs": [
        {
          "output_type": "stream",
          "name": "stdout",
          "text": [
            "removed stop words and punctuation:\n",
            "['made', 'volume', 'model', 'go', '11', 'need', 'work', 'miniature', 'stonehenge', '...']\n"
          ]
        }
      ]
    },
    {
      "cell_type": "markdown",
      "source": [
        "Next, we use porter stemmer to stem words.\n",
        "\n",
        "            stem_word = stemmer.stem(word)  # stemming word\n",
        "            tweets_clean.append(stem_word)"
      ],
      "metadata": {
        "id": "Wse80ZKUrASY"
      }
    },
    {
      "cell_type": "code",
      "source": [
        "import nltk\n",
        "from nltk.stem import PorterStemmer\n",
        "\n",
        "stemmer = PorterStemmer()\n",
        "for word in tokenized_tweet:\n",
        "    stem_word = stemmer.stem(word)\n",
        "    tweets_clean.append(stem_word)\n",
        "print(tweets_clean)"
      ],
      "metadata": {
        "id": "Nwq8pacZrLXg",
        "colab": {
          "base_uri": "https://localhost:8080/"
        },
        "outputId": "7421224b-bcfd-4eca-a83d-09363c64377c"
      },
      "execution_count": null,
      "outputs": [
        {
          "output_type": "stream",
          "name": "stdout",
          "text": [
            "['made', 'volume', 'model', 'go', '11', 'need', 'work', 'miniature', 'stonehenge', '...', 'i', 'made', 'the', 'volum', 'on', 'the', 'model', 's', 'go', 'to', '11', '.', 'now', 'i', 'just', 'need', 'to', 'work', 'in', 'a', 'miniatur', 'stoneheng', '...', \"'\"]\n"
          ]
        }
      ]
    },
    {
      "cell_type": "markdown",
      "metadata": {
        "id": "9quRejfi2kog"
      },
      "source": [
        "## preprocess_tweet()\n",
        "\n",
        "As shown above, preprocessing consists of multiple steps before you arrive at the final list of words.  In the week's assignment, write a function called `preprocess_tweet()`.\n",
        "\n",
        "Then, use this to iterate through the dataframe and preprocess each tweet into a new column.\n",
        "\n",
        "Print your results.\n"
      ]
    },
    {
      "cell_type": "code",
      "metadata": {
        "id": "frUPXf542koh"
      },
      "source": [
        "from nltk.corpus.reader.tagged import word_tokenize\n",
        "### START CODE HERE (REPLACE INSTANCES OF 'None' with your code) ###\n",
        "\n",
        "def preprocess_tweet(tweet):\n",
        "    \"\"\"Process tweet function.\n",
        "    Input:\n",
        "        tweet: a string containing a tweet\n",
        "    Output:\n",
        "        tweets_clean: a list of words containing the processed tweet\n",
        "\n",
        "    \"\"\"\n",
        "    tweets_clean =[]\n",
        "    #create regex for hyperlinks\n",
        "    regex_remove_hyperlinks =  r\"http[s]?://(?:[a-zA-Z]|[0-9]|[$-_@.&+]|[!*\\\\(\\\\),]|(?:%[0-9a-fA-F][0-9a-fA-F]))+\"\n",
        "    tweet = re.sub(regex_remove_hyperlinks, '', tweet)\n",
        "\n",
        "    # remove hashtags\n",
        "    # only removing the hash # sign from the word\n",
        "    regex_hash = r\"#(\\w+)\"\n",
        "    tweet = re.sub(regex_hash, '', tweet)\n",
        "\n",
        "\n",
        "    # remove 'b from each string\n",
        "    regex_string_beginning = r\"^b['\\\"]\"\n",
        "    tweet = re.sub(regex_string_beginning, '', tweet)\n",
        "\n",
        "    # Convert to lowercase\n",
        "    tweets_low = tweet.lower()\n",
        "\n",
        "    # tokenize tweets\n",
        "    tokenized_tweet = tokenizer.tokenize(str(tweets_low))\n",
        "\n",
        "\n",
        "    # Remove stopwords\n",
        "    for word in tokenized_tweet: # Go through every word in your tokens list\n",
        "      if (word not in stopwords_english and  # remove stopwords\n",
        "        word not in string.punctuation):  # remove punctuation\n",
        "        tweets_clean.append(word)\n",
        "\n",
        "    return tweets_clean\n",
        "\n",
        "\n",
        "### END CODE HERE ###"
      ],
      "execution_count": null,
      "outputs": []
    },
    {
      "cell_type": "code",
      "metadata": {
        "id": "YjioQEB12koh",
        "colab": {
          "base_uri": "https://localhost:8080/",
          "height": 423
        },
        "outputId": "a5a96047-a27c-4b2b-ef83-f40c3e04b322"
      },
      "source": [
        "### START CODE HERE (REPLACE INSTANCES OF 'None' with your code) ###\n",
        "\"\"\"\n",
        "Use the function to iterate through the original dataframe 'df' and preprocess each tweet into a new column \"preprocessed_tweets\". Pseudocode below.\n",
        "\n",
        "for i in len(df):\n",
        "  df[\"preprocessed_tweet\"][i] = preprocess_tweet(df[\"text\"][i])\n",
        "\n",
        "\n",
        "\"\"\"\n",
        "# ### END CODE HERE ###\n",
        "\n",
        "# Create an empty list to store preprocessed tweets\n",
        "preprocessed_tweets = []\n",
        "\n",
        "# Iterate through each row of the DataFrame\n",
        "for i in range(len(df)):\n",
        "    preprocessed_tweet = preprocess_tweet(df[\"text\"][i])\n",
        "    preprocessed_tweets.append(preprocessed_tweet)\n",
        "\n",
        "# Assign the list of preprocessed tweets to the \"preprocessed_tweet\" column\n",
        "df[\"preprocessed_tweet\"] = preprocessed_tweets\n",
        "\n",
        "display(df)"
      ],
      "execution_count": null,
      "outputs": [
        {
          "output_type": "display_data",
          "data": {
            "text/plain": [
              "                      id           created_at  \\\n",
              "0     849636868052275200  2017-04-05 14:56:29   \n",
              "1     848988730585096192  2017-04-03 20:01:01   \n",
              "2     848943072423497728  2017-04-03 16:59:35   \n",
              "3     848935705057280001  2017-04-03 16:30:19   \n",
              "4     848416049573658624  2017-04-02 06:05:23   \n",
              "...                  ...                  ...   \n",
              "2814  142881284019060736  2011-12-03 08:22:07   \n",
              "2815  142880871391838208  2011-12-03 08:20:28   \n",
              "2816  142188458125963264  2011-12-01 10:29:04   \n",
              "2817  142179928203460608  2011-12-01 09:55:11   \n",
              "2818         15434727182  2010-06-04 18:31:57   \n",
              "\n",
              "                                                   text  \\\n",
              "0     b'And so the robots spared humanity ... https:...   \n",
              "1     b\"@ForIn2020 @waltmossberg @mims @defcon_5 Exa...   \n",
              "2         b'@waltmossberg @mims @defcon_5 Et tu, Walt?'   \n",
              "3                   b'Stormy weather in Shortville ...'   \n",
              "4     b\"@DaveLeeBBC @verge Coal is dying due to nat ...   \n",
              "...                                                 ...   \n",
              "2814               b'That was a total non sequitur btw'   \n",
              "2815  b'Great Voltaire quote, arguably better than T...   \n",
              "2816  I made the volume on the Model S  go to 11.  N...   \n",
              "2817  b\"Went to Iceland on Sat to ride bumper cars o...   \n",
              "2818  b'Please ignore prior tweets, as that was some...   \n",
              "\n",
              "                                     preprocessed_tweet  \n",
              "0                       [robots, spared, humanity, ...]  \n",
              "1     [exactly, tesla, absurdly, overvalued, based, ...  \n",
              "2                                        [et, tu, walt]  \n",
              "3                    [stormy, weather, shortville, ...]  \n",
              "4     [coal, dying, due, nat, gas, fracking, basical...  \n",
              "...                                                 ...  \n",
              "2814                        [total, non, sequitur, btw]  \n",
              "2815  [great, voltaire, quote, arguably, better, twa...  \n",
              "2816  [made, volume, model, go, 11, need, work, mini...  \n",
              "2817  [went, iceland, sat, ride, bumper, cars, ice, ...  \n",
              "2818  [please, ignore, prior, tweets, someone, prete...  \n",
              "\n",
              "[2819 rows x 4 columns]"
            ],
            "text/html": [
              "\n",
              "  <div id=\"df-634265c5-2812-4ce8-b58d-cdaa51f1e8e8\">\n",
              "    <div class=\"colab-df-container\">\n",
              "      <div>\n",
              "<style scoped>\n",
              "    .dataframe tbody tr th:only-of-type {\n",
              "        vertical-align: middle;\n",
              "    }\n",
              "\n",
              "    .dataframe tbody tr th {\n",
              "        vertical-align: top;\n",
              "    }\n",
              "\n",
              "    .dataframe thead th {\n",
              "        text-align: right;\n",
              "    }\n",
              "</style>\n",
              "<table border=\"1\" class=\"dataframe\">\n",
              "  <thead>\n",
              "    <tr style=\"text-align: right;\">\n",
              "      <th></th>\n",
              "      <th>id</th>\n",
              "      <th>created_at</th>\n",
              "      <th>text</th>\n",
              "      <th>preprocessed_tweet</th>\n",
              "    </tr>\n",
              "  </thead>\n",
              "  <tbody>\n",
              "    <tr>\n",
              "      <th>0</th>\n",
              "      <td>849636868052275200</td>\n",
              "      <td>2017-04-05 14:56:29</td>\n",
              "      <td>b'And so the robots spared humanity ... https:...</td>\n",
              "      <td>[robots, spared, humanity, ...]</td>\n",
              "    </tr>\n",
              "    <tr>\n",
              "      <th>1</th>\n",
              "      <td>848988730585096192</td>\n",
              "      <td>2017-04-03 20:01:01</td>\n",
              "      <td>b\"@ForIn2020 @waltmossberg @mims @defcon_5 Exa...</td>\n",
              "      <td>[exactly, tesla, absurdly, overvalued, based, ...</td>\n",
              "    </tr>\n",
              "    <tr>\n",
              "      <th>2</th>\n",
              "      <td>848943072423497728</td>\n",
              "      <td>2017-04-03 16:59:35</td>\n",
              "      <td>b'@waltmossberg @mims @defcon_5 Et tu, Walt?'</td>\n",
              "      <td>[et, tu, walt]</td>\n",
              "    </tr>\n",
              "    <tr>\n",
              "      <th>3</th>\n",
              "      <td>848935705057280001</td>\n",
              "      <td>2017-04-03 16:30:19</td>\n",
              "      <td>b'Stormy weather in Shortville ...'</td>\n",
              "      <td>[stormy, weather, shortville, ...]</td>\n",
              "    </tr>\n",
              "    <tr>\n",
              "      <th>4</th>\n",
              "      <td>848416049573658624</td>\n",
              "      <td>2017-04-02 06:05:23</td>\n",
              "      <td>b\"@DaveLeeBBC @verge Coal is dying due to nat ...</td>\n",
              "      <td>[coal, dying, due, nat, gas, fracking, basical...</td>\n",
              "    </tr>\n",
              "    <tr>\n",
              "      <th>...</th>\n",
              "      <td>...</td>\n",
              "      <td>...</td>\n",
              "      <td>...</td>\n",
              "      <td>...</td>\n",
              "    </tr>\n",
              "    <tr>\n",
              "      <th>2814</th>\n",
              "      <td>142881284019060736</td>\n",
              "      <td>2011-12-03 08:22:07</td>\n",
              "      <td>b'That was a total non sequitur btw'</td>\n",
              "      <td>[total, non, sequitur, btw]</td>\n",
              "    </tr>\n",
              "    <tr>\n",
              "      <th>2815</th>\n",
              "      <td>142880871391838208</td>\n",
              "      <td>2011-12-03 08:20:28</td>\n",
              "      <td>b'Great Voltaire quote, arguably better than T...</td>\n",
              "      <td>[great, voltaire, quote, arguably, better, twa...</td>\n",
              "    </tr>\n",
              "    <tr>\n",
              "      <th>2816</th>\n",
              "      <td>142188458125963264</td>\n",
              "      <td>2011-12-01 10:29:04</td>\n",
              "      <td>I made the volume on the Model S  go to 11.  N...</td>\n",
              "      <td>[made, volume, model, go, 11, need, work, mini...</td>\n",
              "    </tr>\n",
              "    <tr>\n",
              "      <th>2817</th>\n",
              "      <td>142179928203460608</td>\n",
              "      <td>2011-12-01 09:55:11</td>\n",
              "      <td>b\"Went to Iceland on Sat to ride bumper cars o...</td>\n",
              "      <td>[went, iceland, sat, ride, bumper, cars, ice, ...</td>\n",
              "    </tr>\n",
              "    <tr>\n",
              "      <th>2818</th>\n",
              "      <td>15434727182</td>\n",
              "      <td>2010-06-04 18:31:57</td>\n",
              "      <td>b'Please ignore prior tweets, as that was some...</td>\n",
              "      <td>[please, ignore, prior, tweets, someone, prete...</td>\n",
              "    </tr>\n",
              "  </tbody>\n",
              "</table>\n",
              "<p>2819 rows × 4 columns</p>\n",
              "</div>\n",
              "      <button class=\"colab-df-convert\" onclick=\"convertToInteractive('df-634265c5-2812-4ce8-b58d-cdaa51f1e8e8')\"\n",
              "              title=\"Convert this dataframe to an interactive table.\"\n",
              "              style=\"display:none;\">\n",
              "        \n",
              "  <svg xmlns=\"http://www.w3.org/2000/svg\" height=\"24px\"viewBox=\"0 0 24 24\"\n",
              "       width=\"24px\">\n",
              "    <path d=\"M0 0h24v24H0V0z\" fill=\"none\"/>\n",
              "    <path d=\"M18.56 5.44l.94 2.06.94-2.06 2.06-.94-2.06-.94-.94-2.06-.94 2.06-2.06.94zm-11 1L8.5 8.5l.94-2.06 2.06-.94-2.06-.94L8.5 2.5l-.94 2.06-2.06.94zm10 10l.94 2.06.94-2.06 2.06-.94-2.06-.94-.94-2.06-.94 2.06-2.06.94z\"/><path d=\"M17.41 7.96l-1.37-1.37c-.4-.4-.92-.59-1.43-.59-.52 0-1.04.2-1.43.59L10.3 9.45l-7.72 7.72c-.78.78-.78 2.05 0 2.83L4 21.41c.39.39.9.59 1.41.59.51 0 1.02-.2 1.41-.59l7.78-7.78 2.81-2.81c.8-.78.8-2.07 0-2.86zM5.41 20L4 18.59l7.72-7.72 1.47 1.35L5.41 20z\"/>\n",
              "  </svg>\n",
              "      </button>\n",
              "      \n",
              "  <style>\n",
              "    .colab-df-container {\n",
              "      display:flex;\n",
              "      flex-wrap:wrap;\n",
              "      gap: 12px;\n",
              "    }\n",
              "\n",
              "    .colab-df-convert {\n",
              "      background-color: #E8F0FE;\n",
              "      border: none;\n",
              "      border-radius: 50%;\n",
              "      cursor: pointer;\n",
              "      display: none;\n",
              "      fill: #1967D2;\n",
              "      height: 32px;\n",
              "      padding: 0 0 0 0;\n",
              "      width: 32px;\n",
              "    }\n",
              "\n",
              "    .colab-df-convert:hover {\n",
              "      background-color: #E2EBFA;\n",
              "      box-shadow: 0px 1px 2px rgba(60, 64, 67, 0.3), 0px 1px 3px 1px rgba(60, 64, 67, 0.15);\n",
              "      fill: #174EA6;\n",
              "    }\n",
              "\n",
              "    [theme=dark] .colab-df-convert {\n",
              "      background-color: #3B4455;\n",
              "      fill: #D2E3FC;\n",
              "    }\n",
              "\n",
              "    [theme=dark] .colab-df-convert:hover {\n",
              "      background-color: #434B5C;\n",
              "      box-shadow: 0px 1px 3px 1px rgba(0, 0, 0, 0.15);\n",
              "      filter: drop-shadow(0px 1px 2px rgba(0, 0, 0, 0.3));\n",
              "      fill: #FFFFFF;\n",
              "    }\n",
              "  </style>\n",
              "\n",
              "      <script>\n",
              "        const buttonEl =\n",
              "          document.querySelector('#df-634265c5-2812-4ce8-b58d-cdaa51f1e8e8 button.colab-df-convert');\n",
              "        buttonEl.style.display =\n",
              "          google.colab.kernel.accessAllowed ? 'block' : 'none';\n",
              "\n",
              "        async function convertToInteractive(key) {\n",
              "          const element = document.querySelector('#df-634265c5-2812-4ce8-b58d-cdaa51f1e8e8');\n",
              "          const dataTable =\n",
              "            await google.colab.kernel.invokeFunction('convertToInteractive',\n",
              "                                                     [key], {});\n",
              "          if (!dataTable) return;\n",
              "\n",
              "          const docLinkHtml = 'Like what you see? Visit the ' +\n",
              "            '<a target=\"_blank\" href=https://colab.research.google.com/notebooks/data_table.ipynb>data table notebook</a>'\n",
              "            + ' to learn more about interactive tables.';\n",
              "          element.innerHTML = '';\n",
              "          dataTable['output_type'] = 'display_data';\n",
              "          await google.colab.output.renderOutput(dataTable, element);\n",
              "          const docLink = document.createElement('div');\n",
              "          docLink.innerHTML = docLinkHtml;\n",
              "          element.appendChild(docLink);\n",
              "        }\n",
              "      </script>\n",
              "    </div>\n",
              "  </div>\n",
              "  "
            ]
          },
          "metadata": {}
        }
      ]
    },
    {
      "cell_type": "markdown",
      "metadata": {
        "id": "MOFlGR0y2koi"
      },
      "source": [
        "## Part 1.3 Create a Levensthein Distance Formula"
      ]
    },
    {
      "cell_type": "markdown",
      "metadata": {
        "id": "km5cU90S2koj"
      },
      "source": [
        "Recall that Edit Distance is the similarity between two words represented numericallly. Levenstehin distance is one of the most common algorithms used in calculating the edit distance between two words.\n",
        "\n",
        "Create your own simple Levensthein distance function. Then return the results of the distance between two words: _stemming_ and _lemmatization_.\n"
      ]
    },
    {
      "cell_type": "code",
      "source": [
        "def leven_dist(string1, string2):\n",
        "    '''\n",
        "    input:\n",
        "        string1 = the first word in your formula\n",
        "        string2 = the second word in your formula\n",
        "    output:\n",
        "        levenschtein edit distance\n",
        "\n",
        "    '''\n",
        "    #if min(i,j) =/= 0\n",
        "    if not string1: return len(string2)\n",
        "    if not string2: return len(string1)\n",
        "\n",
        "\n",
        "### START CODE HERE (REPLACE INSTANCES OF 'None' with your code) ###\n",
        "    #because min(i,j) =/= 0 then we min(i,j)\n",
        "    # Recursive case\n",
        "    if string1[-1] == string2[-1]:\n",
        "        # Last characters are the same, no edit required\n",
        "        return leven_dist(string1[:-1], string2[:-1])\n",
        "    else:\n",
        "      #part I. calculate the numerical position of letter i-1, j and add 1\n",
        "        part1 = leven_dist(string1[:-1], string2) + 1\n",
        "\n",
        "      #part II: calculate the numerical position of letter i, j-1 and add 1\n",
        "        part2 = leven_dist(string1, string2[:-1]) + 1\n",
        "\n",
        "      # part III: if position i-1, j-1 are not the same letter, then add 1\n",
        "        part3 = leven_dist(string1[:-1], string2[:-1]) + 1\n",
        "        return min(part1,part2,part3)\n",
        "### END CODE HERE ###\n",
        "\n",
        "\n",
        "\n",
        "#now run your results\n",
        "\n",
        "string1 = 'stemming'\n",
        "string2 = 'lemmatization'\n",
        "print(\"Your Levensthein Distance is: \",leven_dist(string1,string2))"
      ],
      "metadata": {
        "id": "teSaHxFCykFP",
        "colab": {
          "base_uri": "https://localhost:8080/"
        },
        "outputId": "c8f9da62-056b-4635-fed9-4efadea91342"
      },
      "execution_count": null,
      "outputs": [
        {
          "output_type": "stream",
          "name": "stdout",
          "text": [
            "Your Levensthein Distance is:  10\n"
          ]
        }
      ]
    },
    {
      "cell_type": "code",
      "source": [],
      "metadata": {
        "colab": {
          "base_uri": "https://localhost:8080/"
        },
        "id": "w2fzIOz0bg5q",
        "outputId": "7b1663de-fd58-4387-f5ff-e7722cd2c312"
      },
      "execution_count": null,
      "outputs": [
        {
          "output_type": "stream",
          "name": "stdout",
          "text": [
            "Your Levensthein Distance is:  3\n"
          ]
        }
      ]
    },
    {
      "cell_type": "markdown",
      "metadata": {
        "id": "9a5gh6B-2kok"
      },
      "source": [
        "### Expected output:\n",
        "Your Levensthein Distance is: 10"
      ]
    },
    {
      "cell_type": "markdown",
      "metadata": {
        "id": "J3PHkeRY2kol"
      },
      "source": [
        "#end of assignment#\n",
        "\n",
        "Source:\n",
        "Natural Language preprocessing, deeplearning.ai\n",
        "Twitter API documentation\n",
        "Wikipedia: Levensthein Distance\n",
        "Chapter 2 (Jurafsky and Martin)\n",
        "\n"
      ]
    }
  ]
}